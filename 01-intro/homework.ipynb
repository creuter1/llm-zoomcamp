{
 "cells": [
  {
   "cell_type": "code",
   "execution_count": 1,
   "id": "99becea9-c99e-430d-9b77-c5beaa12e5f8",
   "metadata": {},
   "outputs": [],
   "source": [
    "import openai"
   ]
  },
  {
   "cell_type": "code",
   "execution_count": 2,
   "id": "3c9fec2f-8095-4e77-af0b-5602d7772db4",
   "metadata": {},
   "outputs": [],
   "source": [
    "from openai import OpenAI"
   ]
  },
  {
   "cell_type": "code",
   "execution_count": 4,
   "id": "97f35ea9-5656-48d5-8101-a333fc462de0",
   "metadata": {},
   "outputs": [],
   "source": [
    "client = OpenAI()"
   ]
  },
  {
   "cell_type": "code",
   "execution_count": 7,
   "id": "a0d3b58e-44c5-47a8-b5ed-c48ca2221d1b",
   "metadata": {},
   "outputs": [],
   "source": [
    "import os"
   ]
  },
  {
   "cell_type": "code",
   "execution_count": 11,
   "id": "938c2521-17ec-4379-ab3b-cfa669ab9533",
   "metadata": {},
   "outputs": [],
   "source": [
    "response = client.chat.completions.create(\n",
    "    model='gpt-4o',\n",
    "    messages=[{\"role\": \"user\", \"content\": \"is it too late to join the course?\"}]\n",
    ")"
   ]
  },
  {
   "cell_type": "code",
   "execution_count": 16,
   "id": "78493f66-cca8-4ebf-8ca0-a5a25b30ca33",
   "metadata": {},
   "outputs": [
    {
     "data": {
      "text/plain": [
       "\"The answer to your question depends on several factors:\\n\\n1. **Course Enrollment Deadlines**: Many educational institutions have specific enrollment deadlines for their courses. You would need to check the specific deadlines for the course you're interested in.\\n   \\n2. **Course Progress**: If the course has already started, it might still be possible to join, but you may need to catch up on missed materials. This can depend on how far along the course is and whether the instructor allows late enrollments.\\n\\n3. **Institution Policies**: Some institutions have more flexible policies allowing late admissions, possibly with some late fees or other conditions.\\n\\n4. **Online vs. In-Person Courses**: Online courses, especially those that are self-paced, often have more flexible start dates compared to traditional in-person courses.\\n\\n5. **Instructor's Decision**: In some cases, the course instructor may have discretion to allow late enrollments based on your situation.\\n\\nTo get a definitive answer, you would need to contact the institution or the course instructor directly. They can provide specific information about enrollment deadlines, course availability, and any procedures you need to follow to join late.\""
      ]
     },
     "execution_count": 16,
     "metadata": {},
     "output_type": "execute_result"
    }
   ],
   "source": [
    "response.choices[0].message.content"
   ]
  },
  {
   "cell_type": "code",
   "execution_count": null,
   "id": "ea82457a-526b-4b61-b609-f37cd357dfe3",
   "metadata": {},
   "outputs": [],
   "source": []
  }
 ],
 "metadata": {
  "kernelspec": {
   "display_name": "Python 3 (ipykernel)",
   "language": "python",
   "name": "python3"
  },
  "language_info": {
   "codemirror_mode": {
    "name": "ipython",
    "version": 3
   },
   "file_extension": ".py",
   "mimetype": "text/x-python",
   "name": "python",
   "nbconvert_exporter": "python",
   "pygments_lexer": "ipython3",
   "version": "3.10.13"
  }
 },
 "nbformat": 4,
 "nbformat_minor": 5
}
